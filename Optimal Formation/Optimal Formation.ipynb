{
 "cells": [
  {
   "cell_type": "code",
   "execution_count": null,
   "metadata": {},
   "outputs": [],
   "source": [
    "import pandas as pd\n",
    "import matplotlib.pyplot as plt\n",
    "\n",
    "# Load your dataset\n",
    "df = pd.read_csv('C:/Users/91940/Desktop/College/College/VIT/College/Year/8th Sem/Capstone/Data/Match Data/Ger/Matches 21-22.csv')\n",
    "\n",
    "# Filter out rows where results are wins or draws\n",
    "df = df[df['Result'].isin(['W', 'D'])]\n",
    "\n",
    "# Analyze results by team and formation\n",
    "result_by_formation = df.groupby(['Team', 'Formation']).size().unstack(fill_value=0)\n",
    "\n",
    "# Optionally normalize the data by the number of games played by each team\n",
    "total_games_per_team = df.groupby('Team').size()\n",
    "result_by_formation_normalized = result_by_formation.div(total_games_per_team, axis=0)\n",
    "\n",
    "# Visualize the data\n",
    "result_by_formation_normalized.plot(kind='bar', stacked=True, figsize=(10, 6))\n",
    "plt.title('Effectiveness of Formations by Team')\n",
    "plt.xlabel('Team')\n",
    "plt.ylabel('Percentage of Wins/Draws')\n",
    "plt.legend(title='Formation')\n",
    "plt.show()\n"
   ]
  }
 ],
 "metadata": {
  "language_info": {
   "name": "python"
  }
 },
 "nbformat": 4,
 "nbformat_minor": 2
}
