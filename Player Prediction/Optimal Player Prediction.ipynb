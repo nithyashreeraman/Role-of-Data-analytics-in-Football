{
 "cells": [
  {
   "cell_type": "code",
   "execution_count": 4,
   "metadata": {},
   "outputs": [
    {
     "name": "stdout",
     "output_type": "stream",
     "text": [
      "\n",
      "Defender Players:\n",
      "             Player   Nation Pos  Age  MP  Starts   Min   90s  Gls  Ast  ...  \\\n",
      "7   Benjamin Pavard   fr FRA  DF   25  25      24  2076  23.1    0    1  ...   \n",
      "6   Lucas Hernández   fr FRA  DF   25  25      25  2030  22.6    0    1  ...   \n",
      "4   Dayot Upamecano   fr FRA  DF   22  28      25  2211  24.6    1    6  ...   \n",
      "10      Niklas Süle   de GER  DF   25  28      19  1837  20.4    1    2  ...   \n",
      "9   Alphonso Davies   ca CAN  DF   20  22      20  1740  19.3    0    3  ...   \n",
      "16   Josip Stanišić   hr CRO  DF   21  13       6   644   7.2    1    0  ...   \n",
      "17   Tanguy Nianzou   fr FRA  DF   19  17       6   582   6.5    1    1  ...   \n",
      "19    Omar Richards  eng ENG  DF   23  12       5   438   4.9    0    0  ...   \n",
      "\n",
      "    Ast/90  G+A/90  G-PK.1  G+A-PK    xG   xAG  xG+xAG  npxG  npxG+xAG  \\\n",
      "7     0.04    0.04    0.00    0.04  0.03  0.07    0.10  0.03      0.10   \n",
      "6     0.04    0.04    0.00    0.04  0.02  0.02    0.04  0.02      0.04   \n",
      "4     0.24    0.28    0.04    0.28  0.02  0.08    0.10  0.02      0.10   \n",
      "10    0.10    0.15    0.05    0.15  0.07  0.06    0.12  0.07      0.12   \n",
      "9     0.16    0.16    0.00    0.16  0.07  0.21    0.28  0.07      0.28   \n",
      "16    0.00    0.14    0.14    0.14  0.06  0.02    0.08  0.06      0.08   \n",
      "17    0.15    0.31    0.15    0.31  0.06  0.23    0.29  0.06      0.29   \n",
      "19    0.00    0.00    0.00    0.00  0.06  0.03    0.09  0.06      0.09   \n",
      "\n",
      "    Matches  \n",
      "7   Matches  \n",
      "6   Matches  \n",
      "4   Matches  \n",
      "10  Matches  \n",
      "9   Matches  \n",
      "16  Matches  \n",
      "17  Matches  \n",
      "19  Matches  \n",
      "\n",
      "[8 rows x 30 columns]\n"
     ]
    }
   ],
   "source": [
    "import pandas as pd\n",
    "\n",
    "df = pd.read_excel(\"Bayern Munich.xlsx\")\n",
    "\n",
    "\n",
    "\n",
    "# Order players for Pos - 'FW', 'MF', and 'FW,MF' using 'G+A/90'\n",
    "forward_midfield_players = df[df['Pos'].str.contains('FW|MF', na=False)].sort_values(by='G+A/90', ascending=False)\n",
    "\n",
    "# Order players for Pos - 'DF' using 'PrgP' and 'PrgR'\n",
    "defender_players = df[df['Pos'] == 'DF'].sort_values(by=['PrgP', 'PrgR'], ascending=False)\n",
    "\n",
    "# Print the ordered players\n",
    "print(\"\\nForward and Midfielder Players:\")\n",
    "print(forward_midfield_players)\n",
    "print(\"\\nDefender Players:\")\n",
    "print(defender_players)\n"
   ]
  },
  {
   "cell_type": "code",
   "execution_count": null,
   "metadata": {},
   "outputs": [],
   "source": []
  }
 ],
 "metadata": {
  "kernelspec": {
   "display_name": "base",
   "language": "python",
   "name": "python3"
  },
  "language_info": {
   "codemirror_mode": {
    "name": "ipython",
    "version": 3
   },
   "file_extension": ".py",
   "mimetype": "text/x-python",
   "name": "python",
   "nbconvert_exporter": "python",
   "pygments_lexer": "ipython3",
   "version": "3.8.3"
  }
 },
 "nbformat": 4,
 "nbformat_minor": 2
}
